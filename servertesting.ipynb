{
 "cells": [
  {
   "cell_type": "code",
   "execution_count": 1,
   "metadata": {},
   "outputs": [
    {
     "name": "stdout",
     "output_type": "stream",
     "text": [
      "Connection Established\n"
     ]
    }
   ],
   "source": [
    "import mysql.connector\n",
    "import streamlit as st\n",
    "\n",
    "# Establish a connection to MySQL Server\n",
    "\n",
    "mydb = mysql.connector.connect(\n",
    "    host=\"localhost\",\n",
    "    user=\"root\",\n",
    "    password=\"1234\",\n",
    "    database=\"Fest_Database\"\n",
    "\n",
    "\n",
    ")\n",
    "mycursor=mydb.cursor()\n",
    "print(\"Connection Established\")"
   ]
  },
  {
   "cell_type": "code",
   "execution_count": 3,
   "metadata": {},
   "outputs": [
    {
     "name": "stdout",
     "output_type": "stream",
     "text": [
      "('P1001', 'John Smith', 'Computer Science', 5, 'Male')\n",
      "('P1002', 'Emily Johnson', 'Electrical', 6, 'Female')\n",
      "('P1003', 'Michael Williams', 'Mechanical', 4, 'Male')\n",
      "('P1004', 'Sophia Brown', 'Civil', 7, 'Female')\n",
      "('P1005', 'Jacob Jones', 'Chemical', 5, 'Male')\n",
      "('P1006', 'Olivia Davis', 'Computer Science', 6, 'Female')\n",
      "('P1007', 'Ethan Miller', 'Electrical', 4, 'Male')\n",
      "('P1008', 'Ava Wilson', 'Mechanical', 7, 'Female')\n",
      "('P1009', 'William Taylor', 'Civil', 5, 'Male')\n",
      "('P1010', 'Emma Anderson', 'Chemical', 6, 'Female')\n",
      "('P1011', 'Liam Martinez', 'Computer Science', 5, 'Male')\n",
      "('P1012', 'Isabella Thompson', 'Electrical', 6, 'Female')\n",
      "('P1013', 'James Harris', 'Mechanical', 4, 'Male')\n",
      "('P1014', 'Mia Davis', 'Civil', 7, 'Female')\n",
      "('P1015', 'Benjamin Clark', 'Chemical', 5, 'Male')\n",
      "('P1016', 'Charlotte Baker', 'Computer Science', 6, 'Female')\n",
      "('P1017', 'Daniel Lopez', 'Electrical', 4, 'Male')\n",
      "('P1018', 'Amelia Turner', 'Mechanical', 7, 'Female')\n",
      "('P1019', 'Henry Hill', 'Civil', 5, 'Male')\n",
      "('P1020', 'Victoria Young', 'Chemical', 6, 'Female')\n",
      "('P1021', 'David Lee', 'Computer Science', 5, 'Male')\n",
      "('P1022', 'Sofia Green', 'Electrical', 6, 'Female')\n",
      "('P1023', 'Christopher Moore', 'Mechanical', 4, 'Male')\n",
      "('P1024', 'Scarlett Evans', 'Civil', 7, 'Female')\n",
      "('P1025', 'Andrew Martinez', 'Chemical', 5, 'Male')\n"
     ]
    }
   ],
   "source": [
    "mycursor.execute(\"select * from participant;\")\n",
    "myresult=mycursor.fetchall()\n",
    "\n",
    "for x in myresult:\n",
    "    print(x)"
   ]
  },
  {
   "cell_type": "code",
   "execution_count": 4,
   "metadata": {},
   "outputs": [
    {
     "name": "stdout",
     "output_type": "stream",
     "text": [
      "('P1001', 'John Smith', 'Computer Science', 5, 'Male')\n",
      "('P1002', 'Emily Johnson', 'Electrical', 6, 'Female')\n",
      "('P1003', 'Michael Williams', 'Mechanical', 4, 'Male')\n",
      "('P1004', 'Sophia Brown', 'Civil', 7, 'Female')\n",
      "('P1005', 'Jacob Jones', 'Chemical', 5, 'Male')\n",
      "('P1006', 'Olivia Davis', 'Computer Science', 6, 'Female')\n",
      "('P1007', 'Ethan Miller', 'Electrical', 4, 'Male')\n",
      "('P1008', 'Ava Wilson', 'Mechanical', 7, 'Female')\n",
      "('P1009', 'William Taylor', 'Civil', 5, 'Male')\n",
      "('P1010', 'Emma Anderson', 'Chemical', 6, 'Female')\n",
      "('P1011', 'Liam Martinez', 'Computer Science', 5, 'Male')\n",
      "('P1012', 'Isabella Thompson', 'Electrical', 6, 'Female')\n",
      "('P1013', 'James Harris', 'Mechanical', 4, 'Male')\n",
      "('P1014', 'Mia Davis', 'Civil', 7, 'Female')\n",
      "('P1015', 'Benjamin Clark', 'Chemical', 5, 'Male')\n",
      "('P1016', 'Charlotte Baker', 'Computer Science', 6, 'Female')\n",
      "('P1017', 'Daniel Lopez', 'Electrical', 4, 'Male')\n",
      "('P1018', 'Amelia Turner', 'Mechanical', 7, 'Female')\n",
      "('P1019', 'Henry Hill', 'Civil', 5, 'Male')\n",
      "('P1020', 'Victoria Young', 'Chemical', 6, 'Female')\n",
      "('P1021', 'David Lee', 'Computer Science', 5, 'Male')\n",
      "('P1022', 'Sofia Green', 'Electrical', 6, 'Female')\n",
      "('P1023', 'Christopher Moore', 'Mechanical', 4, 'Male')\n",
      "('P1024', 'Scarlett Evans', 'Civil', 7, 'Female')\n",
      "('P1025', 'Andrew Martinez', 'Chemical', 5, 'Male')\n",
      "('P1026', 'jhonwick', 'Assissanation', 7, 'Male')\n"
     ]
    }
   ],
   "source": [
    "#inserting new values into the participant table \n",
    "mycursor.execute(\"insert into participant values('P1026','jhonwick','Assissanation',7,'Male');\") \n",
    "mycursor.execute(\"select * from participant;\")\n",
    "myresult=mycursor.fetchall()\n",
    "\n",
    "for x in myresult:\n",
    "    print(x)"
   ]
  },
  {
   "cell_type": "code",
   "execution_count": 6,
   "metadata": {},
   "outputs": [
    {
     "name": "stdout",
     "output_type": "stream",
     "text": [
      "('SRN', b'varchar(10)', 'NO', 'PRI', None, '')\n",
      "('name', b'varchar(25)', 'NO', '', None, '')\n",
      "('department', b'varchar(20)', 'YES', '', None, '')\n",
      "('semester', b'int', 'YES', '', None, '')\n",
      "('gender', b\"enum('Male','Female')\", 'YES', '', None, '')\n"
     ]
    }
   ],
   "source": [
    "mycursor.execute(\"desc participant;\")\n",
    "myresult=mycursor.fetchall()\n",
    "for x in myresult:\n",
    "    print(x)"
   ]
  },
  {
   "cell_type": "code",
   "execution_count": null,
   "metadata": {},
   "outputs": [],
   "source": []
  }
 ],
 "metadata": {
  "kernelspec": {
   "display_name": "Python 3",
   "language": "python",
   "name": "python3"
  },
  "language_info": {
   "codemirror_mode": {
    "name": "ipython",
    "version": 3
   },
   "file_extension": ".py",
   "mimetype": "text/x-python",
   "name": "python",
   "nbconvert_exporter": "python",
   "pygments_lexer": "ipython3",
   "version": "3.10.11"
  }
 },
 "nbformat": 4,
 "nbformat_minor": 2
}
