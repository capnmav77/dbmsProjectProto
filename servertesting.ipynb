{
 "cells": [
  {
   "cell_type": "code",
   "execution_count": 1,
   "metadata": {},
   "outputs": [
    {
     "name": "stdout",
     "output_type": "stream",
     "text": [
      "Connection Established\n"
     ]
    }
   ],
   "source": [
    "import mysql.connector\n",
    "import streamlit as st\n",
    "\n",
    "# Establish a connection to MySQL Server\n",
    "\n",
    "mydb = mysql.connector.connect(\n",
    "    host=\"localhost\",\n",
    "    user=\"root\",\n",
    "    password=\"1234\",\n",
    "    database=\"Fest_Database\"\n",
    "\n",
    "\n",
    ")\n",
    "mycursor=mydb.cursor()\n",
    "print(\"Connection Established\")"
   ]
  },
  {
   "cell_type": "code",
   "execution_count": 5,
   "metadata": {},
   "outputs": [
    {
     "name": "stdout",
     "output_type": "stream",
     "text": [
      "('M0001', 'Aditya Vikas', datetime.date(2002, 7, 31), None, 'T0001')\n",
      "('M0002', 'N Kumar', datetime.date(2004, 1, 16), 'M0001', 'T0001')\n",
      "('M1', 'John Doe', datetime.date(1995, 5, 10), None, 'T1')\n",
      "('M10', 'Jessica Brown', datetime.date(1995, 7, 18), 'M8', 'T2')\n",
      "('M11', 'Christopher Wilson', datetime.date(1996, 10, 22), None, 'T3')\n",
      "('M12', 'Sophia Taylor', datetime.date(1997, 1, 30), 'M11', 'T3')\n",
      "('M13', 'William Moore', datetime.date(1993, 6, 8), 'M11', 'T3')\n",
      "('M14', 'Olivia Clark', datetime.date(1994, 9, 14), 'M11', 'T3')\n",
      "('M15', 'Andrew Lee', datetime.date(1995, 12, 20), 'M14', 'T3')\n",
      "('M16', 'Emma Martinez', datetime.date(1996, 3, 28), 'M11', 'T3')\n",
      "('M17', 'Matthew Harris', datetime.date(1994, 2, 5), 'M14', 'T3')\n",
      "('M18', 'Olivia Adams', datetime.date(1995, 5, 11), 'M14', 'T3')\n",
      "('M19', 'Emily Walker', datetime.date(1994, 12, 8), 'M21', 'T4')\n",
      "('M2', 'Alice Smith', datetime.date(1996, 8, 15), 'M1', 'T1')\n",
      "('M20', 'Sophia Hall', datetime.date(1997, 11, 21), 'M22', 'T4')\n",
      "('M21', 'Michael Turner', datetime.date(1993, 10, 2), 'M22', 'T4')\n",
      "('M22', 'Daniel Clark', datetime.date(1996, 8, 16), None, 'T4')\n",
      "('M23', 'Jacob Lewis', datetime.date(1996, 3, 15), 'M21', 'T4')\n",
      "('M24', 'Mia Rodriguez', datetime.date(1997, 6, 21), 'M22', 'T4')\n",
      "('M25', 'Daniel Robinson', datetime.date(1993, 9, 1), 'M23', 'T4')\n",
      "('M26', 'Ava Walker', datetime.date(1994, 12, 6), 'M23', 'T4')\n",
      "('M27', 'William Turner', datetime.date(1995, 3, 13), None, 'T5')\n",
      "('M28', 'Sophia Williams', datetime.date(1996, 6, 19), 'M27', 'T5')\n",
      "('M29', 'Jacob Anderson', datetime.date(1997, 9, 25), 'M27', 'T5')\n",
      "('M3', 'Michael Johnson', datetime.date(1997, 11, 20), 'M1', 'T1')\n",
      "('M30', 'Olivia Moore', datetime.date(1998, 12, 31), 'M29', 'T5')\n",
      "('M31', 'Ethan Thompson', datetime.date(1994, 2, 7), 'M29', 'T5')\n",
      "('M32', 'Emily Clark', datetime.date(1995, 5, 14), None, 'T6')\n",
      "('M33', 'Jacob Lewis', datetime.date(1996, 8, 20), 'M32', 'T6')\n",
      "('M34', 'Mia Rodriguez', datetime.date(1997, 11, 26), 'M32', 'T6')\n",
      "('M35', 'Daniel Robinson', datetime.date(1993, 9, 3), 'M32', 'T6')\n",
      "('M36', 'Ava Walker', datetime.date(1994, 12, 9), 'M34', 'T6')\n",
      "('M37', 'William Turner', datetime.date(1995, 3, 16), 'M34', 'T6')\n",
      "('M38', 'Sophia Williams', datetime.date(1996, 6, 22), 'M34', 'T6')\n",
      "('M39', 'Jacob Anderson', datetime.date(1997, 9, 28), 'M35', 'T6')\n",
      "('M4', 'Emily Davis', datetime.date(1998, 3, 25), 'M1', 'T1')\n",
      "('M40', 'Mia Rodriguez', datetime.date(1997, 11, 28), 'M42', 'T7')\n",
      "('M41', 'Ethan Thompson', datetime.date(1994, 2, 10), 'M44', 'T7')\n",
      "('M42', 'Emily Clark', datetime.date(1995, 5, 16), 'M44', 'T7')\n",
      "('M43', 'Jacob Lewis', datetime.date(1996, 8, 22), 'M41', 'T7')\n",
      "('M44', 'Olivia Moore', datetime.date(1998, 1, 3), None, 'T7')\n",
      "('M45', 'Daniel Robinson', datetime.date(1993, 9, 5), None, 'T8')\n",
      "('M46', 'Ava Walker', datetime.date(1994, 12, 11), 'M45', 'T8')\n",
      "('M47', 'William Turner', datetime.date(1995, 3, 18), 'M45', 'T8')\n",
      "('M48', 'Sophia Williams', datetime.date(1996, 6, 24), 'M45', 'T8')\n",
      "('M49', 'Jacob Anderson', datetime.date(1997, 9, 30), 'M46', 'T8')\n",
      "('M5', 'Robert Wilson', datetime.date(1994, 7, 5), 'M1', 'T1')\n",
      "('M50', 'Olivia Moore', datetime.date(1998, 1, 5), 'M46', 'T8')\n",
      "('M51', 'Ethan Thompson', datetime.date(1994, 2, 12), 'M47', 'T8')\n",
      "('M52', 'Emily Clark', datetime.date(1995, 5, 18), 'M48', 'T8')\n",
      "('M53', 'Jacob Lewis', datetime.date(1996, 8, 26), None, 'T9')\n",
      "('M54', 'Mia Rodriguez', datetime.date(1997, 11, 2), 'M53', 'T9')\n",
      "('M55', 'Daniel Robinson', datetime.date(1993, 9, 7), 'M53', 'T9')\n",
      "('M56', 'Ava Walker', datetime.date(1994, 12, 13), 'M54', 'T9')\n",
      "('M57', 'William Turner', datetime.date(1995, 3, 20), 'M54', 'T9')\n",
      "('M58', 'Sophia Williams', datetime.date(1996, 6, 26), 'M54', 'T9')\n",
      "('M59', 'Jacob Anderson', datetime.date(1997, 9, 2), 'M55', 'T9')\n",
      "('M6', 'Sarah Thompson', datetime.date(1995, 10, 12), 'M7', 'T2')\n",
      "('M60', 'Olivia Moore', datetime.date(1998, 1, 7), 'M55', 'T9')\n",
      "('M61', 'Emily Clark', datetime.date(1995, 5, 20), None, 'T12')\n",
      "('M62', 'Jacob Lewis', datetime.date(1996, 8, 28), 'M61', 'T12')\n",
      "('M63', 'Mia Rodriguez', datetime.date(1997, 11, 4), 'M61', 'T12')\n",
      "('M64', 'Daniel Robinson', datetime.date(1993, 9, 9), 'M62', 'T12')\n",
      "('M65', 'Ava Walker', datetime.date(1994, 12, 15), 'M62', 'T12')\n",
      "('M66', 'William Turner', datetime.date(1995, 3, 22), 'M63', 'T12')\n",
      "('M67', 'Sophia Williams', datetime.date(1996, 6, 28), 'M63', 'T12')\n",
      "('M68', 'Jacob Anderson', datetime.date(1997, 9, 4), 'M63', 'T12')\n",
      "('M69', 'Olivia Moore', datetime.date(1998, 1, 9), None, 'T14')\n",
      "('M7', 'Christopher Brown', datetime.date(1996, 1, 18), None, 'T2')\n",
      "('M70', 'Ethan Thompson', datetime.date(1994, 2, 14), 'M69', 'T14')\n",
      "('M71', 'Emily Clark', datetime.date(1995, 5, 22), 'M69', 'T14')\n",
      "('M72', 'Jacob Lewis', datetime.date(1996, 8, 30), 'M69', 'T14')\n",
      "('M73', 'Mia Rodriguez', datetime.date(1997, 11, 6), 'M71', 'T14')\n",
      "('M74', 'Daniel Robinson', datetime.date(1993, 9, 11), 'M71', 'T14')\n",
      "('M75', 'Ava Walker', datetime.date(1994, 12, 17), 'M72', 'T14')\n",
      "('M76', 'William Turner', datetime.date(1995, 3, 24), 'M72', 'T14')\n",
      "('M77', 'Sophia Williams', datetime.date(1996, 6, 30), None, 'T15')\n",
      "('M78', 'Jacob Anderson', datetime.date(1997, 9, 6), 'M77', 'T15')\n",
      "('M79', 'Olivia Moore', datetime.date(1998, 1, 11), 'M77', 'T15')\n",
      "('M8', 'Jessica Anderson', datetime.date(1997, 4, 24), 'M7', 'T2')\n",
      "('M80', 'Ethan Thompson', datetime.date(1994, 2, 16), 'M79', 'T15')\n",
      "('M81', 'Emily Clark', datetime.date(1995, 5, 24), 'M79', 'T15')\n",
      "('M82', 'Jacob Lewis', datetime.date(1996, 9, 2), 'M76', 'T15')\n",
      "('M83', 'Mia Rodriguez', datetime.date(1997, 11, 8), 'M76', 'T15')\n",
      "('M84', 'Daniel Robinson', datetime.date(1993, 9, 13), 'M76', 'T15')\n",
      "('M9', 'David Anderson', datetime.date(1994, 4, 12), 'M8', 'T2')\n"
     ]
    }
   ],
   "source": [
    "mycursor.execute(\"select * from member;\")\n",
    "myresult=mycursor.fetchall()\n",
    "\n",
    "for x in myresult:\n",
    "    print(x)"
   ]
  }
 ],
 "metadata": {
  "kernelspec": {
   "display_name": "Python 3",
   "language": "python",
   "name": "python3"
  },
  "language_info": {
   "codemirror_mode": {
    "name": "ipython",
    "version": 3
   },
   "file_extension": ".py",
   "mimetype": "text/x-python",
   "name": "python",
   "nbconvert_exporter": "python",
   "pygments_lexer": "ipython3",
   "version": "3.10.11"
  }
 },
 "nbformat": 4,
 "nbformat_minor": 2
}
